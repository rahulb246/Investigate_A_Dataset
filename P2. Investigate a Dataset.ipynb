{
 "cells": [
  {
   "cell_type": "markdown",
   "metadata": {
    "deletable": true,
    "editable": true
   },
   "source": [
    "# P2. Investigate a Dataset"
   ]
  },
  {
   "cell_type": "markdown",
   "metadata": {
    "deletable": true,
    "editable": true
   },
   "source": [
    "## 1. Dataset chosen for analysis: Titanic Dataset\n",
    " \n",
    "  "
   ]
  },
  {
   "cell_type": "markdown",
   "metadata": {
    "deletable": true,
    "editable": true
   },
   "source": [
    "It contains demographics and passenger information of the passengers and crew on board the Titanic."
   ]
  },
  {
   "cell_type": "markdown",
   "metadata": {
    "deletable": true,
    "editable": true
   },
   "source": [
    "## 2. Questions posed"
   ]
  },
  {
   "cell_type": "markdown",
   "metadata": {
    "deletable": true,
    "editable": true
   },
   "source": [
    "Q1. What factors made people more likely to survive?\n",
    "(Factors like: age, sex, and class can be analyzed.)\n",
    "To what extent each factor affected the survival?\n",
    "\n",
    "Q2. Did passengers that traveled alone have a higher chance of survival than passengers that traveled as a family?\n",
    "\n",
    "Q3. Does passenger's cabin location help to predict survival? \n",
    "    "
   ]
  },
  {
   "cell_type": "markdown",
   "metadata": {
    "deletable": true,
    "editable": true
   },
   "source": [
    "## 3. Description of the Dataset"
   ]
  },
  {
   "cell_type": "markdown",
   "metadata": {
    "deletable": true,
    "editable": true
   },
   "source": [
    "titanic_data.csv:\n",
    "    \n",
    "Contains information of 891 passengers:\n",
    "    \n",
    "    PassengerId --> A unique identifier for the passenger \n",
    "    Survived --> 1 if the passenger survived, else 0\n",
    "    Pclass --> Pclass gives socio-economic status (SES) of the passenger\n",
    "               1st ~ Upper; 2nd ~ Middle; 3rd ~ Lower\n",
    "    Name \n",
    "    Sex\n",
    "    Age\n",
    "    SibSp and Parch --> With respect to the family relation variables (i.e. sibsp and parch)\n",
    "                        some relations were ignored.  The following are the definitions used\n",
    "                        for sibsp and parch.\n",
    "\n",
    "                        Sibling:  Brother, Sister, Stepbrother, or Stepsister of Passenger Aboard Titanic\n",
    "                        Spouse:   Husband or Wife of Passenger Aboard Titanic (Mistresses and Fiances Ignored)\n",
    "                        Parent:   Mother or Father of Passenger Aboard Titanic\n",
    "                        Child:    Son, Daughter, Stepson, or Stepdaughter of Passenger Aboard Titanic\n",
    "    Ticket -->  Ticket Number\n",
    "    Fare --> fare            Passenger Fare\n",
    "    Cabin \n",
    "    Embarked --> embarked        Port of Embarkation\n",
    "                (C = Cherbourg; Q = Queenstown; S = Southampton)\n"
   ]
  },
  {
   "cell_type": "markdown",
   "metadata": {
    "deletable": true,
    "editable": true
   },
   "source": [
    "## 4. Observations from the cursory analysis of the dataset\n",
    "\n",
    "\n",
    "\n",
    "A lot of entries in the files are missing: The passenger cabin location data is largely missing which makes answering the third question:  Does passengers' cabins location help to predict survival? really difficult. However, the entries:  sex, age, pclass, sibsp and Parch are available. So, the first two questions:  What factors made people more likely to survive?\n",
    "(Factors like: age, sex, and class can be analyzed.)\n",
    "To what extent each factor affected the survival? and Did passengers that travelled alone have a higher chance of survival than passengers that travelled as a family? can be analyzed\n"
   ]
  },
  {
   "cell_type": "markdown",
   "metadata": {
    "deletable": true,
    "editable": true
   },
   "source": [
    "## 5. Loading the data in Python"
   ]
  },
  {
   "cell_type": "code",
   "execution_count": 17,
   "metadata": {
    "collapsed": false,
    "deletable": true,
    "editable": true,
    "scrolled": false
   },
   "outputs": [
    {
     "data": {
      "text/html": [
       "<div>\n",
       "<table border=\"1\" class=\"dataframe\">\n",
       "  <thead>\n",
       "    <tr style=\"text-align: right;\">\n",
       "      <th></th>\n",
       "      <th>PassengerId</th>\n",
       "      <th>Survived</th>\n",
       "      <th>Pclass</th>\n",
       "      <th>Name</th>\n",
       "      <th>Sex</th>\n",
       "      <th>Age</th>\n",
       "      <th>SibSp</th>\n",
       "      <th>Parch</th>\n",
       "      <th>Ticket</th>\n",
       "      <th>Fare</th>\n",
       "      <th>Cabin</th>\n",
       "      <th>Embarked</th>\n",
       "    </tr>\n",
       "  </thead>\n",
       "  <tbody>\n",
       "    <tr>\n",
       "      <th>886</th>\n",
       "      <td>887</td>\n",
       "      <td>0</td>\n",
       "      <td>2</td>\n",
       "      <td>Montvila, Rev. Juozas</td>\n",
       "      <td>male</td>\n",
       "      <td>27.0</td>\n",
       "      <td>0</td>\n",
       "      <td>0</td>\n",
       "      <td>211536</td>\n",
       "      <td>13.00</td>\n",
       "      <td>NaN</td>\n",
       "      <td>S</td>\n",
       "    </tr>\n",
       "    <tr>\n",
       "      <th>887</th>\n",
       "      <td>888</td>\n",
       "      <td>1</td>\n",
       "      <td>1</td>\n",
       "      <td>Graham, Miss. Margaret Edith</td>\n",
       "      <td>female</td>\n",
       "      <td>19.0</td>\n",
       "      <td>0</td>\n",
       "      <td>0</td>\n",
       "      <td>112053</td>\n",
       "      <td>30.00</td>\n",
       "      <td>B42</td>\n",
       "      <td>S</td>\n",
       "    </tr>\n",
       "    <tr>\n",
       "      <th>888</th>\n",
       "      <td>889</td>\n",
       "      <td>0</td>\n",
       "      <td>3</td>\n",
       "      <td>Johnston, Miss. Catherine Helen \"Carrie\"</td>\n",
       "      <td>female</td>\n",
       "      <td>NaN</td>\n",
       "      <td>1</td>\n",
       "      <td>2</td>\n",
       "      <td>W./C. 6607</td>\n",
       "      <td>23.45</td>\n",
       "      <td>NaN</td>\n",
       "      <td>S</td>\n",
       "    </tr>\n",
       "    <tr>\n",
       "      <th>889</th>\n",
       "      <td>890</td>\n",
       "      <td>1</td>\n",
       "      <td>1</td>\n",
       "      <td>Behr, Mr. Karl Howell</td>\n",
       "      <td>male</td>\n",
       "      <td>26.0</td>\n",
       "      <td>0</td>\n",
       "      <td>0</td>\n",
       "      <td>111369</td>\n",
       "      <td>30.00</td>\n",
       "      <td>C148</td>\n",
       "      <td>C</td>\n",
       "    </tr>\n",
       "    <tr>\n",
       "      <th>890</th>\n",
       "      <td>891</td>\n",
       "      <td>0</td>\n",
       "      <td>3</td>\n",
       "      <td>Dooley, Mr. Patrick</td>\n",
       "      <td>male</td>\n",
       "      <td>32.0</td>\n",
       "      <td>0</td>\n",
       "      <td>0</td>\n",
       "      <td>370376</td>\n",
       "      <td>7.75</td>\n",
       "      <td>NaN</td>\n",
       "      <td>Q</td>\n",
       "    </tr>\n",
       "  </tbody>\n",
       "</table>\n",
       "</div>"
      ],
      "text/plain": [
       "     PassengerId  Survived  Pclass                                      Name  \\\n",
       "886          887         0       2                     Montvila, Rev. Juozas   \n",
       "887          888         1       1              Graham, Miss. Margaret Edith   \n",
       "888          889         0       3  Johnston, Miss. Catherine Helen \"Carrie\"   \n",
       "889          890         1       1                     Behr, Mr. Karl Howell   \n",
       "890          891         0       3                       Dooley, Mr. Patrick   \n",
       "\n",
       "        Sex   Age  SibSp  Parch      Ticket   Fare Cabin Embarked  \n",
       "886    male  27.0      0      0      211536  13.00   NaN        S  \n",
       "887  female  19.0      0      0      112053  30.00   B42        S  \n",
       "888  female   NaN      1      2  W./C. 6607  23.45   NaN        S  \n",
       "889    male  26.0      0      0      111369  30.00  C148        C  \n",
       "890    male  32.0      0      0      370376   7.75   NaN        Q  "
      ]
     },
     "execution_count": 17,
     "metadata": {},
     "output_type": "execute_result"
    }
   ],
   "source": [
    "#Loading the data into dataframes\n",
    "\n",
    "import pandas as pd\n",
    "\n",
    "dataset_path='C:/Users/rahul/Desktop/udacity_DA_ND/Investigate_A_Dataset/titanic_data.csv'\n",
    "passengerinfo_df = pd.read_csv(dataset_path)\n",
    "passengerinfo_df.tail()\n",
    "\n",
    "                                      "
   ]
  },
  {
   "cell_type": "markdown",
   "metadata": {
    "deletable": true,
    "editable": true
   },
   "source": [
    "#### The data in titanic_data.csv contains information about 891 passengers. There are a lot of entries missing in the columns age and Cabin."
   ]
  },
  {
   "cell_type": "code",
   "execution_count": 18,
   "metadata": {
    "collapsed": false,
    "deletable": true,
    "editable": true
   },
   "outputs": [
    {
     "data": {
      "text/html": [
       "<div>\n",
       "<table border=\"1\" class=\"dataframe\">\n",
       "  <thead>\n",
       "    <tr style=\"text-align: right;\">\n",
       "      <th></th>\n",
       "      <th>PassengerId</th>\n",
       "      <th>Survived</th>\n",
       "      <th>Pclass</th>\n",
       "      <th>Name</th>\n",
       "      <th>Sex</th>\n",
       "      <th>Age</th>\n",
       "      <th>SibSp</th>\n",
       "      <th>Parch</th>\n",
       "      <th>Ticket</th>\n",
       "      <th>Fare</th>\n",
       "      <th>Cabin</th>\n",
       "      <th>Embarked</th>\n",
       "    </tr>\n",
       "  </thead>\n",
       "  <tbody>\n",
       "    <tr>\n",
       "      <th>871</th>\n",
       "      <td>872</td>\n",
       "      <td>1</td>\n",
       "      <td>1</td>\n",
       "      <td>Beckwith, Mrs. Richard Leonard (Sallie Monypeny)</td>\n",
       "      <td>female</td>\n",
       "      <td>47.0</td>\n",
       "      <td>1</td>\n",
       "      <td>1</td>\n",
       "      <td>11751</td>\n",
       "      <td>52.5542</td>\n",
       "      <td>D35</td>\n",
       "      <td>S</td>\n",
       "    </tr>\n",
       "    <tr>\n",
       "      <th>872</th>\n",
       "      <td>873</td>\n",
       "      <td>0</td>\n",
       "      <td>1</td>\n",
       "      <td>Carlsson, Mr. Frans Olof</td>\n",
       "      <td>male</td>\n",
       "      <td>33.0</td>\n",
       "      <td>0</td>\n",
       "      <td>0</td>\n",
       "      <td>695</td>\n",
       "      <td>5.0000</td>\n",
       "      <td>B51 B53 B55</td>\n",
       "      <td>S</td>\n",
       "    </tr>\n",
       "    <tr>\n",
       "      <th>879</th>\n",
       "      <td>880</td>\n",
       "      <td>1</td>\n",
       "      <td>1</td>\n",
       "      <td>Potter, Mrs. Thomas Jr (Lily Alexenia Wilson)</td>\n",
       "      <td>female</td>\n",
       "      <td>56.0</td>\n",
       "      <td>0</td>\n",
       "      <td>1</td>\n",
       "      <td>11767</td>\n",
       "      <td>83.1583</td>\n",
       "      <td>C50</td>\n",
       "      <td>C</td>\n",
       "    </tr>\n",
       "    <tr>\n",
       "      <th>887</th>\n",
       "      <td>888</td>\n",
       "      <td>1</td>\n",
       "      <td>1</td>\n",
       "      <td>Graham, Miss. Margaret Edith</td>\n",
       "      <td>female</td>\n",
       "      <td>19.0</td>\n",
       "      <td>0</td>\n",
       "      <td>0</td>\n",
       "      <td>112053</td>\n",
       "      <td>30.0000</td>\n",
       "      <td>B42</td>\n",
       "      <td>S</td>\n",
       "    </tr>\n",
       "    <tr>\n",
       "      <th>889</th>\n",
       "      <td>890</td>\n",
       "      <td>1</td>\n",
       "      <td>1</td>\n",
       "      <td>Behr, Mr. Karl Howell</td>\n",
       "      <td>male</td>\n",
       "      <td>26.0</td>\n",
       "      <td>0</td>\n",
       "      <td>0</td>\n",
       "      <td>111369</td>\n",
       "      <td>30.0000</td>\n",
       "      <td>C148</td>\n",
       "      <td>C</td>\n",
       "    </tr>\n",
       "  </tbody>\n",
       "</table>\n",
       "</div>"
      ],
      "text/plain": [
       "     PassengerId  Survived  Pclass  \\\n",
       "871          872         1       1   \n",
       "872          873         0       1   \n",
       "879          880         1       1   \n",
       "887          888         1       1   \n",
       "889          890         1       1   \n",
       "\n",
       "                                                 Name     Sex   Age  SibSp  \\\n",
       "871  Beckwith, Mrs. Richard Leonard (Sallie Monypeny)  female  47.0      1   \n",
       "872                          Carlsson, Mr. Frans Olof    male  33.0      0   \n",
       "879     Potter, Mrs. Thomas Jr (Lily Alexenia Wilson)  female  56.0      0   \n",
       "887                      Graham, Miss. Margaret Edith  female  19.0      0   \n",
       "889                             Behr, Mr. Karl Howell    male  26.0      0   \n",
       "\n",
       "     Parch  Ticket     Fare        Cabin Embarked  \n",
       "871      1   11751  52.5542          D35        S  \n",
       "872      0     695   5.0000  B51 B53 B55        S  \n",
       "879      1   11767  83.1583          C50        C  \n",
       "887      0  112053  30.0000          B42        S  \n",
       "889      0  111369  30.0000         C148        C  "
      ]
     },
     "execution_count": 18,
     "metadata": {},
     "output_type": "execute_result"
    }
   ],
   "source": [
    "# dropping entries that have missing data\n",
    "passengerinfo_df.dropna().tail()\n"
   ]
  },
  {
   "cell_type": "code",
   "execution_count": 19,
   "metadata": {
    "collapsed": false,
    "deletable": true,
    "editable": true
   },
   "outputs": [
    {
     "name": "stdout",
     "output_type": "stream",
     "text": [
      "missing_data_rows = 708.0\n",
      "percent_misssing_data = 79.4612794613\n"
     ]
    }
   ],
   "source": [
    "total = 891.0\n",
    "nonmissing_rows=len(passengerinfo_df.dropna())\n",
    "missing_data_rows = total - nonmissing_rows\n",
    "print '{} = {}'.format('missing_data_rows', missing_data_rows)\n",
    "\n",
    "# Finding percentage of missing data\n",
    "\n",
    "percent_misssing_data =100- len(passengerinfo_df.dropna())*1.0/len(passengerinfo_df)* 100\n",
    "print '{} = {}'.format('percent_misssing_data', percent_misssing_data)"
   ]
  },
  {
   "cell_type": "code",
   "execution_count": 20,
   "metadata": {
    "collapsed": false,
    "deletable": true,
    "editable": true
   },
   "outputs": [
    {
     "name": "stdout",
     "output_type": "stream",
     "text": [
      "missing_cabindata_rows = 687\n",
      "missing_agedata_rows = 177\n"
     ]
    }
   ],
   "source": [
    "missing_cabindata_rows = len(passengerinfo_df['Cabin']) - passengerinfo_df['Cabin'].count()\n",
    "print '{} = {}'.format('missing_cabindata_rows', missing_cabindata_rows)\n",
    "\n",
    "missing_agedata_rows = len(passengerinfo_df['Age']) - passengerinfo_df['Age'].count()\n",
    "print '{} = {}'.format('missing_agedata_rows', missing_agedata_rows)\n"
   ]
  },
  {
   "cell_type": "markdown",
   "metadata": {
    "deletable": true,
    "editable": true
   },
   "source": [
    "#### 79.46 percent of the records have some missing entries, all these records cannot be removed  just because some entries are missing. Also out of the 708/891 rows that contain missing records, the attribute that is missing in  the majority of rows i.e. 687 rows is the Cabin data which does not affect the analysis much and hence, the missing data is not removed."
   ]
  },
  {
   "cell_type": "markdown",
   "metadata": {
    "deletable": true,
    "editable": true
   },
   "source": [
    "## 6. General Statistics"
   ]
  },
  {
   "cell_type": "code",
   "execution_count": 21,
   "metadata": {
    "collapsed": false,
    "deletable": true,
    "editable": true,
    "scrolled": true
   },
   "outputs": [
    {
     "data": {
      "text/html": [
       "<div>\n",
       "<table border=\"1\" class=\"dataframe\">\n",
       "  <thead>\n",
       "    <tr style=\"text-align: right;\">\n",
       "      <th></th>\n",
       "      <th>PassengerId</th>\n",
       "      <th>Survived</th>\n",
       "      <th>Pclass</th>\n",
       "      <th>Age</th>\n",
       "      <th>SibSp</th>\n",
       "      <th>Parch</th>\n",
       "      <th>Fare</th>\n",
       "    </tr>\n",
       "  </thead>\n",
       "  <tbody>\n",
       "    <tr>\n",
       "      <th>count</th>\n",
       "      <td>891.000000</td>\n",
       "      <td>891.000000</td>\n",
       "      <td>891.000000</td>\n",
       "      <td>714.000000</td>\n",
       "      <td>891.000000</td>\n",
       "      <td>891.000000</td>\n",
       "      <td>891.000000</td>\n",
       "    </tr>\n",
       "    <tr>\n",
       "      <th>mean</th>\n",
       "      <td>446.000000</td>\n",
       "      <td>0.383838</td>\n",
       "      <td>2.308642</td>\n",
       "      <td>29.699118</td>\n",
       "      <td>0.523008</td>\n",
       "      <td>0.381594</td>\n",
       "      <td>32.204208</td>\n",
       "    </tr>\n",
       "    <tr>\n",
       "      <th>std</th>\n",
       "      <td>257.353842</td>\n",
       "      <td>0.486592</td>\n",
       "      <td>0.836071</td>\n",
       "      <td>14.526497</td>\n",
       "      <td>1.102743</td>\n",
       "      <td>0.806057</td>\n",
       "      <td>49.693429</td>\n",
       "    </tr>\n",
       "    <tr>\n",
       "      <th>min</th>\n",
       "      <td>1.000000</td>\n",
       "      <td>0.000000</td>\n",
       "      <td>1.000000</td>\n",
       "      <td>0.420000</td>\n",
       "      <td>0.000000</td>\n",
       "      <td>0.000000</td>\n",
       "      <td>0.000000</td>\n",
       "    </tr>\n",
       "    <tr>\n",
       "      <th>25%</th>\n",
       "      <td>223.500000</td>\n",
       "      <td>0.000000</td>\n",
       "      <td>2.000000</td>\n",
       "      <td>20.125000</td>\n",
       "      <td>0.000000</td>\n",
       "      <td>0.000000</td>\n",
       "      <td>7.910400</td>\n",
       "    </tr>\n",
       "    <tr>\n",
       "      <th>50%</th>\n",
       "      <td>446.000000</td>\n",
       "      <td>0.000000</td>\n",
       "      <td>3.000000</td>\n",
       "      <td>28.000000</td>\n",
       "      <td>0.000000</td>\n",
       "      <td>0.000000</td>\n",
       "      <td>14.454200</td>\n",
       "    </tr>\n",
       "    <tr>\n",
       "      <th>75%</th>\n",
       "      <td>668.500000</td>\n",
       "      <td>1.000000</td>\n",
       "      <td>3.000000</td>\n",
       "      <td>38.000000</td>\n",
       "      <td>1.000000</td>\n",
       "      <td>0.000000</td>\n",
       "      <td>31.000000</td>\n",
       "    </tr>\n",
       "    <tr>\n",
       "      <th>max</th>\n",
       "      <td>891.000000</td>\n",
       "      <td>1.000000</td>\n",
       "      <td>3.000000</td>\n",
       "      <td>80.000000</td>\n",
       "      <td>8.000000</td>\n",
       "      <td>6.000000</td>\n",
       "      <td>512.329200</td>\n",
       "    </tr>\n",
       "  </tbody>\n",
       "</table>\n",
       "</div>"
      ],
      "text/plain": [
       "       PassengerId    Survived      Pclass         Age       SibSp  \\\n",
       "count   891.000000  891.000000  891.000000  714.000000  891.000000   \n",
       "mean    446.000000    0.383838    2.308642   29.699118    0.523008   \n",
       "std     257.353842    0.486592    0.836071   14.526497    1.102743   \n",
       "min       1.000000    0.000000    1.000000    0.420000    0.000000   \n",
       "25%     223.500000    0.000000    2.000000   20.125000    0.000000   \n",
       "50%     446.000000    0.000000    3.000000   28.000000    0.000000   \n",
       "75%     668.500000    1.000000    3.000000   38.000000    1.000000   \n",
       "max     891.000000    1.000000    3.000000   80.000000    8.000000   \n",
       "\n",
       "            Parch        Fare  \n",
       "count  891.000000  891.000000  \n",
       "mean     0.381594   32.204208  \n",
       "std      0.806057   49.693429  \n",
       "min      0.000000    0.000000  \n",
       "25%      0.000000    7.910400  \n",
       "50%      0.000000   14.454200  \n",
       "75%      0.000000   31.000000  \n",
       "max      6.000000  512.329200  "
      ]
     },
     "execution_count": 21,
     "metadata": {},
     "output_type": "execute_result"
    }
   ],
   "source": [
    "passengerinfo_df.describe()"
   ]
  },
  {
   "cell_type": "markdown",
   "metadata": {
    "deletable": true,
    "editable": true
   },
   "source": [
    "#### The above table gives general data about the data columns.\n",
    "    Below are some insights from the above table:\n",
    "        \n",
    "1. The most aged passenger was 80 years old.\n",
    "2. The highest fare taken to board the RMS Titanic was $512.32920.\n",
    "3. The average age of the passenger aboard the RMS Titanic was 29.69 years.\n",
    "4. The mean survival stat was 0.3838 where 1='Survived' and 0='Not Survived',\n",
    "5. The youngest passenger was barely 4 months old.\n",
    "\n",
    "\n",
    "\n"
   ]
  },
  {
   "cell_type": "markdown",
   "metadata": {
    "deletable": true,
    "editable": true
   },
   "source": [
    "## 7. Is the survival rate affected by sex?"
   ]
  },
  {
   "cell_type": "code",
   "execution_count": 22,
   "metadata": {
    "collapsed": false,
    "deletable": true,
    "editable": true
   },
   "outputs": [
    {
     "name": "stdout",
     "output_type": "stream",
     "text": [
      "Number of male passengers = 577\n",
      "Number of female passengers = 314\n",
      "percent_male = 64.758698092\n",
      "percent_female = 35.241301908\n"
     ]
    }
   ],
   "source": [
    "# Finding the number of male and female passengers\n",
    "\n",
    "male_pass = (passengerinfo_df[passengerinfo_df['Sex'] == 'male'])\n",
    "print '{} = {}'.format('Number of male passengers', len(male_pass))\n",
    "\n",
    "female_pass = (passengerinfo_df[passengerinfo_df['Sex'] == 'female'])\n",
    "print '{} = {}'.format('Number of female passengers', len(female_pass))\n",
    "\n",
    "# Finding the percentage of male and female passengers\n",
    "\n",
    "percent_male = len(male_pass)/total*100\n",
    "print '{} = {}'.format('percent_male', percent_male)\n",
    "\n",
    "percent_female = len(female_pass)/total*100\n",
    "print '{} = {}'.format('percent_female', percent_female)\n",
    "\n"
   ]
  },
  {
   "cell_type": "code",
   "execution_count": 23,
   "metadata": {
    "collapsed": false,
    "deletable": true,
    "editable": true
   },
   "outputs": [
    {
     "name": "stdout",
     "output_type": "stream",
     "text": [
      "Populating the interactive namespace from numpy and matplotlib\n"
     ]
    },
    {
     "data": {
      "image/png": "[encoded data removed]",
      "text/plain": [
       "<matplotlib.figure.Figure at 0x1ea50cf8>"
      ]
     },
     "metadata": {},
     "output_type": "display_data"
    }
   ],
   "source": [
    "# Plotting the number of male and female passengers\n",
    "\n",
    "import seaborn as sns\n",
    "import numpy as np\n",
    "import matplotlib.pyplot as plt\n",
    "%pylab inline\n",
    "\n",
    "def plotbar(data1, data2, title, c1, c2, n, l1,l2): \n",
    "    n_groups = 1\n",
    "    means_men = (data1)\n",
    "    means_women = (data2)\n",
    "\n",
    "    fig, ax = plt.subplots()\n",
    "\n",
    "    index = np.arange(n_groups)\n",
    "    bar_width = 0.3\n",
    "\n",
    "    opacity = 0.7\n",
    "    error_config = {'ecolor': '0.3'}\n",
    "\n",
    "    rects1 = plt.bar(index, means_men, bar_width,\n",
    "                     alpha=opacity,\n",
    "                     color=c1,\n",
    "                     yerr=0,\n",
    "                     error_kw=error_config,\n",
    "                     label=l1)\n",
    "\n",
    "    rects2 = plt.bar(index +0.5 + bar_width, means_women, bar_width,\n",
    "                     alpha=opacity,\n",
    "                     color=c2,\n",
    "                     yerr=0,\n",
    "                     error_kw=error_config,\n",
    "                     label=l2)\n",
    "\n",
    "    plt.xlabel('')\n",
    "    plt.ylabel('Percentages')\n",
    "    plt.title(title)\n",
    "    plt.xticks(index + bar_width, (''))\n",
    "    plt.legend()\n",
    "    plt.yticks(n)\n",
    "\n",
    "    plt.tight_layout()\n",
    "    plt.show()\n",
    "    \n",
    "plotbar(percent_male, percent_female,'Percentage of male and female passengers','b','y',np.arange(0, 80, 10), 'Men', 'Women')"
   ]
  },
  {
   "cell_type": "markdown",
   "metadata": {
    "collapsed": true,
    "deletable": true,
    "editable": true
   },
   "source": [
    "### Observation:\n",
    "The male population aboard the Titanic was much higher than the female population."
   ]
  },
  {
   "cell_type": "markdown",
   "metadata": {
    "deletable": true,
    "editable": true
   },
   "source": [
    "### 35.24% of the passengers are female whereas the rest of the 64.75% are males"
   ]
  },
  {
   "cell_type": "code",
   "execution_count": 24,
   "metadata": {
    "collapsed": false,
    "deletable": true,
    "editable": true
   },
   "outputs": [
    {
     "name": "stdout",
     "output_type": "stream",
     "text": [
      "percent_male_survived = 18.8908145581\n",
      "percent_male_notsurvived = 81.1091854419\n",
      "percent_female_survived = 74.2038216561\n",
      "percent_female_notsurvived = 25.7961783439\n"
     ]
    }
   ],
   "source": [
    "##Finding the percentage of male passengers who survived/did not survive\n",
    "\n",
    "percent_male_survived = len(passengerinfo_df[(passengerinfo_df['Survived'] == 1) &  (passengerinfo_df['Sex'] == \"male\")])/(len(male_pass)*1.0)*100\n",
    "percent_male_notsurvived = len(passengerinfo_df[(passengerinfo_df['Survived'] == 0) &  (passengerinfo_df['Sex'] == \"male\")])/(len(male_pass)*1.0)*100\n",
    "\n",
    "print '{} = {}'.format('percent_male_survived', percent_male_survived)\n",
    "print '{} = {}'.format('percent_male_notsurvived', percent_male_notsurvived)\n",
    "\n",
    "\n",
    "##Finding the percentage of female passengers who survived/did not survive\n",
    "\n",
    "percent_female_survived = len(passengerinfo_df[(passengerinfo_df['Survived'] == 1) &  (passengerinfo_df['Sex'] == \"female\")])/(len(female_pass)*1.0)*100\n",
    "percent_female_notsurvived = len(passengerinfo_df[(passengerinfo_df['Survived'] == 0) &  (passengerinfo_df['Sex'] == \"female\")])/(len(female_pass)*1.0)*100\n",
    "\n",
    "print '{} = {}'.format('percent_female_survived', percent_female_survived)\n",
    "print '{} = {}'.format('percent_female_notsurvived', percent_female_notsurvived)"
   ]
  },
  {
   "cell_type": "code",
   "execution_count": 25,
   "metadata": {
    "collapsed": false,
    "deletable": true,
    "editable": true
   },
   "outputs": [
    {
     "data": {
      "image/png": "[encoded data removed]",
      "text/plain": [
       "<matplotlib.figure.Figure at 0x1eadc630>"
      ]
     },
     "metadata": {},
     "output_type": "display_data"
    }
   ],
   "source": [
    "##Plotting the percentages of surviving males and females\n",
    "\n",
    "plotbar(percent_male_survived, percent_female_survived, 'Percentage of male and female passengers who survived','r','b',np.arange(0, 120, 10),'Men', 'Women')"
   ]
  },
  {
   "cell_type": "markdown",
   "metadata": {
    "collapsed": true,
    "deletable": true,
    "editable": true
   },
   "source": [
    "### Observation:\n",
    "The percentage of female population who survived was much higher than the percentage of male population who made it."
   ]
  },
  {
   "cell_type": "markdown",
   "metadata": {
    "deletable": true,
    "editable": true
   },
   "source": [
    "#### Out of the total 577 male passengers only 109 survived. The survival rate of male passenger was less than 20%.Out of the total 314 female passengers 233 survived. The survival rate of the female passenger was upto 74%"
   ]
  },
  {
   "cell_type": "markdown",
   "metadata": {
    "deletable": true,
    "editable": true
   },
   "source": [
    "## 8. Is the survival rate affected by age?"
   ]
  },
  {
   "cell_type": "code",
   "execution_count": 30,
   "metadata": {
    "collapsed": false,
    "deletable": true,
    "editable": true
   },
   "outputs": [
    {
     "name": "stdout",
     "output_type": "stream",
     "text": [
      "num_of_children = 113\n",
      "num_of_adults = 601\n",
      "num_of_children_who_survived = 61\n",
      "num_of_adults_who_survived = 229\n",
      "percent_children_who_survived = 53.982300885\n",
      "percent_adults_who_survived = 38.1031613977\n"
     ]
    },
    {
     "data": {
      "image/png": "[encoded data removed]",
      "text/plain": [
       "<matplotlib.figure.Figure at 0x1eb3a4a8>"
      ]
     },
     "metadata": {},
     "output_type": "display_data"
    }
   ],
   "source": [
    "# A graph showing Age of passengers across sex of those who survived\n",
    "g = sns.factorplot(x=\"Survived\", y=\"Age\", hue='Sex', data=passengerinfo_df, kind=\"box\", size=7, aspect=.8)\n",
    "\n",
    "# Fix up the labels\n",
    "(g.set_axis_labels('Suvivors', 'Age of Passengers')\n",
    "    .set_xticklabels([\"False\", \"True\"])\n",
    ")\n",
    "\n",
    "# Finding the number of children and adults who survived\n",
    "\n",
    "num_of_children= len(passengerinfo_df[passengerinfo_df['Age'] < 18])\n",
    "num_of_adults= len(passengerinfo_df[passengerinfo_df['Age'] >= 18])\n",
    "\n",
    "num_of_children_who_survived= len(passengerinfo_df[(passengerinfo_df['Age'] < 18) & (passengerinfo_df['Survived'] == 1)])\n",
    "num_of_adults_who_survived= len(passengerinfo_df[(passengerinfo_df['Age'] >= 18) & (passengerinfo_df['Survived'] == 1)])\n",
    "\n",
    "print '{} = {}'.format('num_of_children',  num_of_children)\n",
    "print '{} = {}'.format('num_of_adults', num_of_adults)\n",
    "print '{} = {}'.format('num_of_children_who_survived', num_of_children_who_survived)\n",
    "print '{} = {}'.format('num_of_adults_who_survived', num_of_adults_who_survived)\n",
    "\n",
    "# Finding percentages of children and adults who survived\n",
    "\n",
    "percent_children_who_survived = num_of_children_who_survived*1.0/num_of_children * 100\n",
    "percent_adults_who_survived = num_of_adults_who_survived*1.0/num_of_adults * 100\n",
    "\n",
    "print '{} = {}'.format('percent_children_who_survived', percent_children_who_survived)\n",
    "print '{} = {}'.format('percent_adults_who_survived', percent_adults_who_survived)\n"
   ]
  },
  {
   "cell_type": "code",
   "execution_count": 27,
   "metadata": {
    "collapsed": false,
    "deletable": true,
    "editable": true
   },
   "outputs": [
    {
     "data": {
      "image/png": "[encoded data removed]",
      "text/plain": [
       "<matplotlib.figure.Figure at 0x1f0831d0>"
      ]
     },
     "metadata": {},
     "output_type": "display_data"
    }
   ],
   "source": [
    "##Plotting the percentages of children and adults who survived\n",
    "\n",
    "plotbar(percent_children_who_survived, percent_adults_who_survived, 'Percentage of children and adults who survived','b','g',np.arange(0, 70, 10),'Children','Adults')"
   ]
  },
  {
   "cell_type": "markdown",
   "metadata": {
    "deletable": true,
    "editable": true
   },
   "source": [
    "### Observation:\n",
    "The percentage of children who survived is relatively greater."
   ]
  },
  {
   "cell_type": "markdown",
   "metadata": {
    "deletable": true,
    "editable": true
   },
   "source": [
    "#### 53.98 percent of the children aboard RMS titanic survived whereas only 38.10 percent adults made it. "
   ]
  },
  {
   "cell_type": "markdown",
   "metadata": {
    "deletable": true,
    "editable": true
   },
   "source": [
    "In statistics, the Mann–Whitney U test is a nonparametric test of the null hypothesis that two samples come from the same population against an alternative hypothesis, especially that a particular population tends to have larger values than the other.\n",
    "\n"
   ]
  },
  {
   "cell_type": "code",
   "execution_count": 28,
   "metadata": {
    "collapsed": false,
    "deletable": true,
    "editable": true
   },
   "outputs": [
    {
     "data": {
      "text/plain": [
       "(28.343689655172415, 30.626179245283019, 81592.0, 0.00050215422146319716)"
      ]
     },
     "execution_count": 28,
     "metadata": {},
     "output_type": "execute_result"
    }
   ],
   "source": [
    "##Employing Mann–Whitney U test\n",
    "\n",
    "import scipy\n",
    "import scipy.stats\n",
    "\n",
    "\n",
    "def mann_whitney_test_means(a):\n",
    "    survive = passengerinfo_df[passengerinfo_df.Survived == 1][a]\n",
    "    not_survive = passengerinfo_df[passengerinfo_df.Survived == 0][a]\n",
    "    survive_mean = np.mean(survive)\n",
    "    not_survive_mean = np.mean(not_survive)\n",
    "    U,p = scipy.stats.mannwhitneyu(survive,not_survive)\n",
    "    return survive_mean, not_survive_mean, U, p\n",
    "\n",
    "mann_whitney_test_means('Age')"
   ]
  },
  {
   "cell_type": "markdown",
   "metadata": {
    "deletable": true,
    "editable": true
   },
   "source": [
    "Result:\n",
    "\n",
    "P-value: 0.00050215422146319716\n",
    "\n",
    "Its less than 0.05. This means that the null hypothesis that the mean age of survivors is equal to mean age of victims is rejected.The mean age of a survivor is lesser than that of a victim"
   ]
  },
  {
   "cell_type": "markdown",
   "metadata": {
    "deletable": true,
    "editable": true
   },
   "source": [
    "#### The survival rate of a child is much higher than the survival rate of an adult"
   ]
  },
  {
   "cell_type": "markdown",
   "metadata": {
    "deletable": true,
    "editable": true
   },
   "source": [
    "## 9. Is the survival rate affected by class?"
   ]
  },
  {
   "cell_type": "code",
   "execution_count": 29,
   "metadata": {
    "collapsed": false,
    "deletable": true,
    "editable": true
   },
   "outputs": [
    {
     "ename": "NameError",
     "evalue": "name 'passengerinfo' is not defined",
     "output_type": "error",
     "traceback": [
      "\u001b[1;31m---------------------------------------------------------------------------\u001b[0m",
      "\u001b[1;31mNameError\u001b[0m                                 Traceback (most recent call last)",
      "\u001b[1;32m<ipython-input-29-a268f2a7918f>\u001b[0m in \u001b[0;36m<module>\u001b[1;34m()\u001b[0m\n\u001b[0;32m      7\u001b[0m \u001b[1;31m# Finding the number of passengers belonging to first, second and third class who did survive/did not survive\u001b[0m\u001b[1;33m\u001b[0m\u001b[1;33m\u001b[0m\u001b[0m\n\u001b[0;32m      8\u001b[0m \u001b[1;33m\u001b[0m\u001b[0m\n\u001b[1;32m----> 9\u001b[1;33m \u001b[0mnum_of_fclass_who_survived\u001b[0m\u001b[1;33m=\u001b[0m \u001b[0mlen\u001b[0m\u001b[1;33m(\u001b[0m\u001b[0mpassengerinfo_df\u001b[0m\u001b[1;33m[\u001b[0m\u001b[1;33m(\u001b[0m\u001b[0mpassengerinfo_df\u001b[0m\u001b[1;33m[\u001b[0m\u001b[1;34m'Pclass'\u001b[0m\u001b[1;33m]\u001b[0m \u001b[1;33m==\u001b[0m \u001b[1;36m1\u001b[0m\u001b[1;33m)\u001b[0m \u001b[1;33m&\u001b[0m \u001b[1;33m(\u001b[0m\u001b[0mpassengerinfo\u001b[0m\u001b[1;33m[\u001b[0m\u001b[1;34m'Survived'\u001b[0m\u001b[1;33m]\u001b[0m \u001b[1;33m==\u001b[0m \u001b[1;36m1\u001b[0m\u001b[1;33m)\u001b[0m\u001b[1;33m]\u001b[0m\u001b[1;33m)\u001b[0m\u001b[1;33m\u001b[0m\u001b[0m\n\u001b[0m\u001b[0;32m     10\u001b[0m \u001b[0mnum_of_sclass_who_survived\u001b[0m\u001b[1;33m=\u001b[0m \u001b[0mlen\u001b[0m\u001b[1;33m(\u001b[0m\u001b[0mpassengerinfo_df\u001b[0m\u001b[1;33m[\u001b[0m\u001b[1;33m(\u001b[0m\u001b[0mpassengerinfo_df\u001b[0m\u001b[1;33m[\u001b[0m\u001b[1;34m'Pclass'\u001b[0m\u001b[1;33m]\u001b[0m \u001b[1;33m==\u001b[0m \u001b[1;36m2\u001b[0m\u001b[1;33m)\u001b[0m \u001b[1;33m&\u001b[0m \u001b[1;33m(\u001b[0m\u001b[0mpassengerinfo\u001b[0m\u001b[1;33m[\u001b[0m\u001b[1;34m'Survived'\u001b[0m\u001b[1;33m]\u001b[0m \u001b[1;33m==\u001b[0m \u001b[1;36m1\u001b[0m\u001b[1;33m)\u001b[0m\u001b[1;33m]\u001b[0m\u001b[1;33m)\u001b[0m\u001b[1;33m\u001b[0m\u001b[0m\n\u001b[0;32m     11\u001b[0m \u001b[0mnum_of_tclass_who_survived\u001b[0m\u001b[1;33m=\u001b[0m \u001b[0mlen\u001b[0m\u001b[1;33m(\u001b[0m\u001b[0mpassengerinfo_df\u001b[0m\u001b[1;33m[\u001b[0m\u001b[1;33m(\u001b[0m\u001b[0mpassengerinfo_df\u001b[0m\u001b[1;33m[\u001b[0m\u001b[1;34m'Pclass'\u001b[0m\u001b[1;33m]\u001b[0m \u001b[1;33m==\u001b[0m \u001b[1;36m3\u001b[0m\u001b[1;33m)\u001b[0m \u001b[1;33m&\u001b[0m \u001b[1;33m(\u001b[0m\u001b[0mpassengerinfo\u001b[0m\u001b[1;33m[\u001b[0m\u001b[1;34m'Survived'\u001b[0m\u001b[1;33m]\u001b[0m \u001b[1;33m==\u001b[0m \u001b[1;36m1\u001b[0m\u001b[1;33m)\u001b[0m\u001b[1;33m]\u001b[0m\u001b[1;33m)\u001b[0m\u001b[1;33m\u001b[0m\u001b[0m\n",
      "\u001b[1;31mNameError\u001b[0m: name 'passengerinfo' is not defined"
     ]
    }
   ],
   "source": [
    "# Finding the number of passengers belonging to first, second and third class\n",
    "\n",
    "num_of_fclass= len(passengerinfo_df[passengerinfo_df['Pclass'] ==1])\n",
    "num_of_sclass= len(passengerinfo_df[passengerinfo_df['Pclass'] ==2])\n",
    "num_of_tclass= len(passengerinfo_df[passengerinfo_df['Pclass'] ==3])\n",
    "\n",
    "# Finding the number of passengers belonging to first, second and third class who did survive/did not survive\n",
    "\n",
    "num_of_fclass_who_survived= len(passengerinfo_df[(passengerinfo_df['Pclass'] == 1) & (passengerinfo['Survived'] == 1)])\n",
    "num_of_sclass_who_survived= len(passengerinfo_df[(passengerinfo_df['Pclass'] == 2) & (passengerinfo['Survived'] == 1)])\n",
    "num_of_tclass_who_survived= len(passengerinfo_df[(passengerinfo_df['Pclass'] == 3) & (passengerinfo['Survived'] == 1)])\n",
    "\n",
    "num_of_fclass_who_didnt_survive= num_of_fclass-num_of_fclass_who_survived\n",
    "num_of_sclass_who_didnt_survive= num_of_sclass-num_of_sclass_who_survived \n",
    "num_of_tclass_who_didnt_survive= num_of_tclass-num_of_tclass_who_survived\n",
    "\n",
    "print '{} = {}'.format('num_of_fclass', num_of_fclass)\n",
    "print '{} = {}'.format('num_of_sclass', num_of_sclass)\n",
    "print '{} = {}'.format('num_of_tclass', num_of_tclass)\n",
    "print '{} = {}'.format('num_of_fclass_who_survived', num_of_fclass_who_survived)\n",
    "print '{} = {}'.format('num_of_sclass_who_survived', num_of_sclass_who_survived)\n",
    "print '{} = {}'.format('num_of_tclass_who_survived', num_of_tclass_who_survived)\n",
    "print '{} = {}'.format('num_of_fclass_who_didnt_survive ', num_of_fclass_who_didnt_survive )\n",
    "print '{} = {}'.format('num_of_sclass_who_didnt_survive',  num_of_sclass_who_didnt_survive)\n",
    "print '{} = {}'.format('num_of_tclass_who_didnt_survive', num_of_tclass_who_didnt_survive)\n",
    "\n",
    "\n",
    "# Finding percentages of people belonging to the first, second, third class who did/did not survive\n",
    "\n",
    "percent_fclass_who_survived = num_of_fclass_who_survived*1.0/num_of_fclass * 100\n",
    "percent_sclass_who_survived = num_of_sclass_who_survived*1.0/num_of_sclass * 100\n",
    "percent_tclass_who_survived = num_of_tclass_who_survived*1.0/num_of_tclass * 100\n",
    "\n",
    "print '{} = {}'.format('percent_fclass_who_survived', percent_fclass_who_survived)\n",
    "print '{} = {}'.format('percent_sclass_who_survived', percent_sclass_who_survived)\n",
    "print '{} = {}'.format('percent_tclass_who_survived', percent_tclass_who_survived)\n"
   ]
  },
  {
   "cell_type": "code",
   "execution_count": null,
   "metadata": {
    "collapsed": false,
    "deletable": true,
    "editable": true
   },
   "outputs": [],
   "source": [
    "# Plotting percentages of people belonging to the first, second, third class who did/did not survive\n",
    "\n",
    "import numpy as np\n",
    "import matplotlib.pyplot as plt\n",
    "\n",
    "\n",
    "N = 3\n",
    "survivedMeans = (num_of_fclass_who_survived, num_of_sclass_who_survived, num_of_tclass_who_survived)\n",
    "notsurvivedMeans = (num_of_fclass_who_didnt_survive, num_of_sclass_who_didnt_survive, num_of_tclass_who_didnt_survive)\n",
    "\n",
    "ind = np.arange(N)    # the x locations for the groups\n",
    "width = 0.35       # the width of the bars: can also be len(x) sequence\n",
    "\n",
    "p1 = plt.bar(ind, survivedMeans, width, color='y')\n",
    "p2 = plt.bar(ind, notsurvivedMeans, width, color='b',\n",
    "             bottom=survivedMeans)\n",
    "\n",
    "plt.ylabel('Number of Passengers')\n",
    "plt.title('Survival Stats by class')\n",
    "plt.xticks(ind + width/2., ('1st Class', '2nd Class', '3rd Class'))\n",
    "plt.yticks(np.arange(0, 800, 50))\n",
    "plt.legend((p1[0], p2[0]), ('Survived', 'Did not Survive'))\n",
    "\n",
    "plt.show()\n"
   ]
  },
  {
   "cell_type": "markdown",
   "metadata": {
    "deletable": true,
    "editable": true
   },
   "source": [
    "### Observation:\n",
    "The survival rate of a first class passenger is much higher than the survival rate of the second class passenger, and the survival rate of a second class passenger is much higher than the survival rate of a third class passenger"
   ]
  },
  {
   "cell_type": "markdown",
   "metadata": {
    "deletable": true,
    "editable": true
   },
   "source": [
    "#### 62.96 percent of the 1st class passengers survived whereas, 47.28 percent of the 2nd class passengers survived and only 24.23 percent of the 3rd class passengers survived"
   ]
  },
  {
   "cell_type": "markdown",
   "metadata": {
    "deletable": true,
    "editable": true
   },
   "source": [
    "## 10. Relationship between Class, Sex and rate of survival"
   ]
  },
  {
   "cell_type": "code",
   "execution_count": null,
   "metadata": {
    "collapsed": false,
    "deletable": true,
    "editable": true
   },
   "outputs": [],
   "source": [
    "# Finding number of males, females belonging to different classes \n",
    "\n",
    "num_of_fclass_male= len(passengerinfo_df[(passengerinfo_df['Pclass'] ==1) & (passengerinfo_df['Sex'] == \"male\")])\n",
    "num_of_sclass_male= len(passengerinfo_df[(passengerinfo_df['Pclass'] ==2) & (passengerinfo_df['Sex'] == \"male\")])\n",
    "num_of_tclass_male= len(passengerinfo_df[(passengerinfo_df['Pclass'] ==3) & (passengerinfo_df['Sex'] == \"male\")])\n",
    "\n",
    "num_of_fclass_female= len(passengerinfo_df[(passengerinfo_df['Pclass'] ==1) & (passengerinfo_df['Sex'] == \"female\")])\n",
    "num_of_sclass_female= len(passengerinfo_df[(passengerinfo_df['Pclass'] ==2) & (passengerinfo_df['Sex'] == \"female\")])\n",
    "num_of_tclass_female= len(passengerinfo_df[(passengerinfo_df['Pclass'] ==3) & (passengerinfo_df['Sex'] == \"female\")])\n",
    "\n",
    "num_of_fclass_female_who_survived= len(passengerinfo_df[(passengerinfo_df['Pclass'] == 1) & (passengerinfo_df['Survived'] == 1) & (passengerinfo_df['Sex']==\"female\")])\n",
    "num_of_fclass_male_who_survived= len(passengerinfo_df[(passengerinfo_df['Pclass'] == 1) & (passengerinfo_df['Survived'] == 1) & (passengerinfo_df['Sex']==\"male\")])\n",
    "num_of_sclass_female_who_survived= len(passengerinfo_df[(passengerinfo_df['Pclass'] == 2) & (passengerinfo_df['Survived'] == 1) & (passengerinfo_df['Sex']==\"female\")])\n",
    "num_of_sclass_male_who_survived= len(passengerinfo_df[(passengerinfo_df['Pclass'] == 2) & (passengerinfo_df['Survived'] == 1) & (passengerinfo_df['Sex']==\"male\")])\n",
    "num_of_tclass_female_who_survived= len(passengerinfo_df[(passengerinfo_df['Pclass'] == 3) & (passengerinfo_df['Survived'] == 1) & (passengerinfo_df['Sex']==\"female\")])\n",
    "num_of_tclass_male_who_survived= len(passengerinfo_df[(passengerinfo_df['Pclass'] == 3) & (passengerinfo_df['Survived'] == 1) & (passengerinfo_df['Sex']==\"male\")])\n",
    "\n",
    "##Finding percentages of males, females belonging to different classes \n",
    "\n",
    "percent_fclass_female= num_of_fclass_female_who_survived*1.0/num_of_fclass_female*100\n",
    "percent_fclass_male= num_of_fclass_male_who_survived*1.0/num_of_fclass_male*100\n",
    "percent_sclass_female= num_of_sclass_female_who_survived*1.0/num_of_sclass_female*100\n",
    "percent_sclass_male= num_of_sclass_male_who_survived*1.0/num_of_sclass_male*100\n",
    "percent_tclass_female= num_of_tclass_female_who_survived*1.0/num_of_tclass_female*100\n",
    "percent_tclass_male= num_of_tclass_male_who_survived*1.0/num_of_tclass_male*100\n",
    "\n",
    "print '{} = {}'.format('percent_fclass_male', percent_fclass_male)\n",
    "print '{} = {}'.format('percent_sclass_female', percent_sclass_female)\n",
    "print '{} = {}'.format('percent_sclass_male', percent_sclass_male)\n",
    "print '{} = {}'.format('percent_tclass_female', percent_tclass_female)\n",
    "print '{} = {}'.format('percent_tclass_male', percent_tclass_male)"
   ]
  },
  {
   "cell_type": "code",
   "execution_count": null,
   "metadata": {
    "collapsed": false,
    "deletable": true,
    "editable": true
   },
   "outputs": [],
   "source": [
    "# Plotting percentages of males, females belonging to different classes \n",
    "\n",
    "import numpy as np\n",
    "import matplotlib.pyplot as plt\n",
    "%pylab inline\n",
    "\n",
    "\n",
    "n_groups = 3\n",
    "\n",
    "means_men = (percent_fclass_male, percent_sclass_male, percent_tclass_male)\n",
    "\n",
    "means_women = (percent_fclass_female, percent_sclass_female, percent_tclass_female)\n",
    "\n",
    "\n",
    "fig, ax = plt.subplots()\n",
    "\n",
    "index = np.arange(n_groups)\n",
    "bar_width = 0.35\n",
    "\n",
    "opacity = 0.7\n",
    "error_config = {'ecolor': '0.3'}\n",
    "\n",
    "rects1 = plt.bar(index, means_men, bar_width,\n",
    "                 alpha=opacity,\n",
    "                 color='y',\n",
    "                 yerr=0,\n",
    "                 error_kw=error_config,\n",
    "                 label='Men')\n",
    "\n",
    "rects2 = plt.bar(index + bar_width, means_women, bar_width,\n",
    "                 alpha=opacity,\n",
    "                 color='g',\n",
    "                 yerr=0,\n",
    "                 error_kw=error_config,\n",
    "                 label='Women')\n",
    "\n",
    "plt.xlabel('Class')\n",
    "plt.ylabel('Percentages')\n",
    "plt.title('Percentage of men and women who survived')\n",
    "plt.xticks(index + bar_width, ('First Class', 'Second Class', 'Third Class'))\n",
    "plt.legend()\n",
    "\n",
    "plt.tight_layout()\n",
    "plt.show()"
   ]
  },
  {
   "cell_type": "markdown",
   "metadata": {
    "collapsed": true,
    "deletable": true,
    "editable": true
   },
   "source": [
    "### Observation:\n",
    "    \n",
    "Percentage of female survival in first class > Percentage of female survival in second class > Percentage of female survival in the third class\n",
    "\n",
    "Percentage of male survival in first class > Percentage of male survival in second class > Percentage of male survival in the third class\n"
   ]
  },
  {
   "cell_type": "markdown",
   "metadata": {
    "deletable": true,
    "editable": true
   },
   "source": [
    "#### The graph shows the percentage of men and women through different classes who survived\n"
   ]
  },
  {
   "cell_type": "markdown",
   "metadata": {
    "deletable": true,
    "editable": true
   },
   "source": [
    "## 11. Investigating whether if you are traveling alone or with family would affect the survival rate."
   ]
  },
  {
   "cell_type": "code",
   "execution_count": null,
   "metadata": {
    "collapsed": false,
    "deletable": true,
    "editable": true
   },
   "outputs": [],
   "source": [
    "# Number of passengers who are not travelling alone\n",
    "\n",
    "not_alone = (passengerinfo_df[(passengerinfo_df['SibSp']>0) | (passengerinfo_df['Parch']>0)])\n",
    "\n",
    "# Number of passengers who are travelling alone\n",
    "\n",
    "alone = (passengerinfo_df[(passengerinfo_df['SibSp']==0) & (passengerinfo_df['Parch']==0)])\n",
    "\n",
    "not_alone_survived = (passengerinfo_df[((passengerinfo_df['SibSp']>0) | (passengerinfo_df['Parch']>0)) & passengerinfo_df['Survived']])\n",
    "alone_survived = (passengerinfo_df[((passengerinfo_df['SibSp']==0) & (passengerinfo_df['Parch']==0)) & passengerinfo_df['Survived']])\n",
    "\n",
    "# Percentages of passengers who are travelling alone/are not travelling alone who survived/did not survive\n",
    "\n",
    "percent_not_alone_survived = len(not_alone_survived)* 1.0/len(not_alone)*100\n",
    "percent_alone_survived = len(alone_survived)* 1.0/len(alone)*100\n",
    "\n",
    "print '{} = {}'.format('percent_not_alone_survived', percent_not_alone_survived)\n",
    "print '{} = {}'.format('percent_alone_survived', percent_alone_survived)\n"
   ]
  },
  {
   "cell_type": "code",
   "execution_count": null,
   "metadata": {
    "collapsed": false,
    "deletable": true,
    "editable": true
   },
   "outputs": [],
   "source": [
    "# Plotting percentages of passengers who are travelling alone/are not travelling alone who survived/did not survive\n",
    "\n",
    "\n",
    "plotbar(percent_alone_survived, percent_not_alone_survived, 'Percentage of Survivors','black','red',np.arange(0, 70, 10),'Alone','Not Alone')"
   ]
  },
  {
   "cell_type": "markdown",
   "metadata": {
    "deletable": true,
    "editable": true
   },
   "source": [
    "### Observation:\n",
    "Percentage of survivors is more amongst people travelling in company"
   ]
  },
  {
   "cell_type": "code",
   "execution_count": null,
   "metadata": {
    "collapsed": false,
    "deletable": true,
    "editable": true
   },
   "outputs": [],
   "source": [
    "import numpy as np\n",
    "import scipy\n",
    "import scipy.stats\n",
    "import pandas\n",
    "\n",
    "def mann_whitney_test_fmeans():\n",
    "    survive = passengerinfo_df[passengerinfo_df.Survived == 1]['SibSp']+passengerinfo_df[passengerinfo_df.Survived == 1]['Parch']\n",
    "    not_survive = passengerinfo_df[passengerinfo_df.Survived == 0]['SibSp']+passengerinfo_df[passengerinfo_df.Survived == 0]['Parch']\n",
    "    survive_mean = np.mean(survive)\n",
    "    not_survive_mean = np.mean(not_survive)\n",
    "    U,p = scipy.stats.mannwhitneyu(survive,not_survive)\n",
    "    return survive_mean, not_survive_mean, U, p\n",
    "\n",
    "mann_whitney_test_fmeans()"
   ]
  },
  {
   "cell_type": "markdown",
   "metadata": {
    "deletable": true,
    "editable": true
   },
   "source": [
    "\n",
    "Result:\n",
    "    \n",
    "P-value:  3.9854006354579223e-07\n",
    "Its less than 0.05. This means that the null hypothesis that is rejected. The mean co-passenger value is higher for the survivors."
   ]
  },
  {
   "cell_type": "markdown",
   "metadata": {
    "deletable": true,
    "editable": true
   },
   "source": [
    "#### The people who travelled with company had a higher survival rate than those who did not."
   ]
  },
  {
   "cell_type": "markdown",
   "metadata": {
    "deletable": true,
    "editable": true
   },
   "source": [
    "## 13. Conclusion"
   ]
  },
  {
   "cell_type": "markdown",
   "metadata": {
    "collapsed": true,
    "deletable": true,
    "editable": true
   },
   "source": [
    "#### 1. From a total of 577 male passengers, only 109 i.e less than 20 percent survived. However, out of the total 314 female passengers, 233 i.e upto 74 percent of the female population aboard RMS Titanic survived. The survival rate of female passengers was much greater than that of male passengers.\n",
    "#### 2. A higher percentage of children made it through as compared to the adults.\n",
    "#### 3. 62.96 percent of the 1st class passengers survived whereas, the survival percentage amongst the third class passengers was only a third of this.\n",
    "#### 4. It is observed that the rate of survival is higher for the passengers travelling with family as compared to those travelling alone.\n",
    "\n",
    "## Issues\n",
    "\n",
    "#### 1. A portion of men and women did not have Age data and were removed from calculations which could have skewed some numbers\n",
    "#### 2. The category of 'children' was assumed to be anyone under the age of 18, using today's North American standard for adulthood which was certainly not the case in the 1900s"
   ]
  },
  {
   "cell_type": "markdown",
   "metadata": {
    "deletable": true,
    "editable": true
   },
   "source": [
    "## 14. References\n"
   ]
  },
  {
   "cell_type": "markdown",
   "metadata": {
    "deletable": true,
    "editable": true
   },
   "source": [
    "https://www.kaggle.com/c/titanic/prospector#1234\n",
    "\n",
    "http://cs229.stanford.edu/proj2012/LamTang-TitanicMachineLearningFromDisaster.pdf\n",
    "\n",
    "https://www.kaggle.com/omarelgabry/titanic/a-journey-through-titanic"
   ]
  }
 ],
 "metadata": {
  "kernelspec": {
   "display_name": "Python 2",
   "language": "python",
   "name": "python2"
  },
  "language_info": {
   "codemirror_mode": {
    "name": "ipython",
    "version": 2
   },
   "file_extension": ".py",
   "mimetype": "text/x-python",
   "name": "python",
   "nbconvert_exporter": "python",
   "pygments_lexer": "ipython2",
   "version": "2.7.10"
  }
 },
 "nbformat": 4,
 "nbformat_minor": 0
}
